{
  "nbformat": 4,
  "nbformat_minor": 0,
  "metadata": {
    "colab": {
      "provenance": []
    },
    "kernelspec": {
      "name": "python3",
      "display_name": "Python 3"
    },
    "language_info": {
      "name": "python"
    }
  },
  "cells": [
    {
      "cell_type": "markdown",
      "source": [
        "COmpleted By suman Shrestha(2408389)\n",
        "\n",
        "\n",
        " worksheet 01 (A coding exercises on Numpy)"
      ],
      "metadata": {
        "id": "RhwuHfBb6b38"
      }
    },
    {
      "cell_type": "markdown",
      "source": [
        "To - Do - Task\n",
        "\n",
        "Problem - 1: Array Creation:\n",
        "\n",
        "1.\tInitialize an empty array with size 2X2."
      ],
      "metadata": {
        "id": "ocb7vu4Z66uD"
      }
    },
    {
      "cell_type": "code",
      "source": [
        "import numpy as np\n",
        "empty_array = np.zeros((2,2))\n",
        "print(empty_array)"
      ],
      "metadata": {
        "colab": {
          "base_uri": "https://localhost:8080/"
        },
        "id": "PT2E9CWe7NPC",
        "outputId": "d973afd0-0aec-4770-d550-6bec8a623388"
      },
      "execution_count": null,
      "outputs": [
        {
          "output_type": "stream",
          "name": "stdout",
          "text": [
            "[[0. 0.]\n",
            " [0. 0.]]\n"
          ]
        }
      ]
    },
    {
      "cell_type": "markdown",
      "source": [
        "2.\tInitialize an all one array with size 4X2."
      ],
      "metadata": {
        "id": "dEv6cbx78Ulm"
      }
    },
    {
      "cell_type": "code",
      "source": [
        "import numpy as np\n",
        "one_array = np.ones((4,2))\n",
        "print(one_array)"
      ],
      "metadata": {
        "colab": {
          "base_uri": "https://localhost:8080/"
        },
        "id": "ZXXwoA6u8bwL",
        "outputId": "030b2cba-59a9-45b0-9457-4b021d2ce3e5"
      },
      "execution_count": null,
      "outputs": [
        {
          "output_type": "stream",
          "name": "stdout",
          "text": [
            "[[1. 1.]\n",
            " [1. 1.]\n",
            " [1. 1.]\n",
            " [1. 1.]]\n"
          ]
        }
      ]
    },
    {
      "cell_type": "markdown",
      "source": [
        "3.\tReturn a new array of given shape and type, filled with fill value.{Hint: np.full}"
      ],
      "metadata": {
        "id": "iDN2lXcH82f-"
      }
    },
    {
      "cell_type": "code",
      "source": [
        "import numpy as np\n",
        "fill_array = np.full((4,3), (5))\n",
        "print(fill_array)"
      ],
      "metadata": {
        "colab": {
          "base_uri": "https://localhost:8080/"
        },
        "id": "YiJZP4cH86g3",
        "outputId": "984377dc-364c-4a05-a17c-52da95b3d34f"
      },
      "execution_count": null,
      "outputs": [
        {
          "output_type": "stream",
          "name": "stdout",
          "text": [
            "[[5 5 5]\n",
            " [5 5 5]\n",
            " [5 5 5]\n",
            " [5 5 5]]\n"
          ]
        }
      ]
    },
    {
      "cell_type": "markdown",
      "source": [
        "4.\tReturn a new array of zeros with same shape and type as a given array.{Hint: np.zeros like}"
      ],
      "metadata": {
        "id": "YGDclerf9m7J"
      }
    },
    {
      "cell_type": "code",
      "source": [
        "import numpy as np\n",
        "fill_array = np.array([[1,2,3,4,5],[6,7,8,9,0]])\n",
        "zeros_array = np.zeros_like(fill_array)\n",
        "print(zeros_array)"
      ],
      "metadata": {
        "colab": {
          "base_uri": "https://localhost:8080/"
        },
        "id": "Hw8bzAsk9tek",
        "outputId": "fc352ccf-e79c-4ccb-f0c3-bea3f756b557"
      },
      "execution_count": null,
      "outputs": [
        {
          "output_type": "stream",
          "name": "stdout",
          "text": [
            "[[0 0 0 0 0]\n",
            " [0 0 0 0 0]]\n"
          ]
        }
      ]
    },
    {
      "cell_type": "markdown",
      "source": [
        "5.\tReturn a new array of ones with same shape and type as a given array.{Hint: np.ones like}"
      ],
      "metadata": {
        "id": "QNRAcBmM_EDP"
      }
    },
    {
      "cell_type": "code",
      "source": [
        "import numpy as np\n",
        "fill_array = np.array([[1,2,3,4,5],[6,7,8,9,0],[1,2,3,4,5]])\n",
        "ones_array = np.ones_like(fill_array)\n",
        "print(ones_array)"
      ],
      "metadata": {
        "colab": {
          "base_uri": "https://localhost:8080/"
        },
        "id": "sssfuKUP_KDZ",
        "outputId": "9220d5ae-db10-4bc2-a958-3dd51b666ac6"
      },
      "execution_count": null,
      "outputs": [
        {
          "output_type": "stream",
          "name": "stdout",
          "text": [
            "[[1 1 1 1 1]\n",
            " [1 1 1 1 1]\n",
            " [1 1 1 1 1]]\n"
          ]
        }
      ]
    },
    {
      "cell_type": "markdown",
      "source": [
        "6.\n",
        "For an existing list new_list = [1,2,3,4] convert to an numpy array.{Hint: np.array()\n",
        "}"
      ],
      "metadata": {
        "id": "nryRegzz_dg0"
      }
    },
    {
      "cell_type": "code",
      "source": [
        "import numpy as np\n",
        "new_list = [1,2,3,4]\n",
        "new_array = np.array(new_list)\n",
        "print(new_array)"
      ],
      "metadata": {
        "colab": {
          "base_uri": "https://localhost:8080/"
        },
        "id": "Tmhbw9m7_nXi",
        "outputId": "abee3641-133d-40e8-860b-cb750b89af9b"
      },
      "execution_count": null,
      "outputs": [
        {
          "output_type": "stream",
          "name": "stdout",
          "text": [
            "[1 2 3 4]\n"
          ]
        }
      ]
    },
    {
      "cell_type": "markdown",
      "source": [
        "Problem - 2: Array Manipulation: Numerical Ranges and Array indexing:\n",
        "\n",
        "1.\tCreate an array with values ranging from 10 to 49. {Hint:np.arange()}."
      ],
      "metadata": {
        "id": "9XaL9d7y_8ft"
      }
    },
    {
      "cell_type": "code",
      "source": [
        "import numpy as np\n",
        "ranging_array = np.arange(10,50)\n",
        "print(ranging_array)"
      ],
      "metadata": {
        "colab": {
          "base_uri": "https://localhost:8080/"
        },
        "id": "HHO0dj3DAI5V",
        "outputId": "7a4f7c35-2a79-45fe-df97-c8c2399b9e52"
      },
      "execution_count": null,
      "outputs": [
        {
          "output_type": "stream",
          "name": "stdout",
          "text": [
            "[10 11 12 13 14 15 16 17 18 19 20 21 22 23 24 25 26 27 28 29 30 31 32 33\n",
            " 34 35 36 37 38 39 40 41 42 43 44 45 46 47 48 49]\n"
          ]
        }
      ]
    },
    {
      "cell_type": "markdown",
      "source": [
        "2.\tCreate a 3X3 matrix with values ranging from 0 to 8."
      ],
      "metadata": {
        "id": "SCvsHlx6Anzk"
      }
    },
    {
      "cell_type": "code",
      "source": [
        "import numpy as np\n",
        "\n",
        "print(np.arange(0,9).reshape(3,3))"
      ],
      "metadata": {
        "colab": {
          "base_uri": "https://localhost:8080/"
        },
        "id": "7ywfPFKSAr4a",
        "outputId": "2d447063-86bf-47fb-edd6-769a0af1a4aa"
      },
      "execution_count": null,
      "outputs": [
        {
          "output_type": "stream",
          "name": "stdout",
          "text": [
            "[[0 1 2]\n",
            " [3 4 5]\n",
            " [6 7 8]]\n"
          ]
        }
      ]
    },
    {
      "cell_type": "markdown",
      "source": [
        "3.\tCreate a 3X3 identity matrix.{Hint:np.eye()}"
      ],
      "metadata": {
        "id": "xRI8xfrpBY3F"
      }
    },
    {
      "cell_type": "code",
      "source": [
        "import numpy as np\n",
        "print(np.eye(3,3))"
      ],
      "metadata": {
        "colab": {
          "base_uri": "https://localhost:8080/"
        },
        "id": "N4r8JATYBfWT",
        "outputId": "115b46d5-cda3-47e4-c19f-31fae9a49f2a"
      },
      "execution_count": null,
      "outputs": [
        {
          "output_type": "stream",
          "name": "stdout",
          "text": [
            "[[1. 0. 0.]\n",
            " [0. 1. 0.]\n",
            " [0. 0. 1.]]\n"
          ]
        }
      ]
    },
    {
      "cell_type": "markdown",
      "source": [
        "4.\tCreate a random array of size 30 and find the mean of the array.\n",
        "{Hint:check for np.random.random() and array.mean() function}\n"
      ],
      "metadata": {
        "id": "TCH4k7uKBq39"
      }
    },
    {
      "cell_type": "code",
      "source": [
        "import numpy as np\n",
        "print(np.random.random(30))\n",
        "print(np.random.random(30).mean())\n"
      ],
      "metadata": {
        "colab": {
          "base_uri": "https://localhost:8080/"
        },
        "id": "0WMYbA2WBvf6",
        "outputId": "bc61740a-7aa3-4c9c-8c0d-8ed2d956ada6"
      },
      "execution_count": null,
      "outputs": [
        {
          "output_type": "stream",
          "name": "stdout",
          "text": [
            "[0.03802327 0.7475448  0.933564   0.22905141 0.31286835 0.6728481\n",
            " 0.62781273 0.96425796 0.94930801 0.00256014 0.93335027 0.30719972\n",
            " 0.63287991 0.49050623 0.69415938 0.11685615 0.14716219 0.85577888\n",
            " 0.58516604 0.40805208 0.46910968 0.28275862 0.16779971 0.05346977\n",
            " 0.23251087 0.67622956 0.30290888 0.41271877 0.75008695 0.23265335]\n",
            "0.5471382950000638\n"
          ]
        }
      ]
    },
    {
      "cell_type": "markdown",
      "source": [
        "5.\tCreate a 10X10 array with random values and find the minimum and maximum values."
      ],
      "metadata": {
        "id": "Tx-_pLlFCkaB"
      }
    },
    {
      "cell_type": "code",
      "source": [
        "import numpy as np\n",
        "print(np.random.random(100).reshape(10,10))\n",
        "print(\"minimum value is: \",np.random.random(100).reshape(10,10).min())\n",
        "print(\"maximum value is: \",np.random.random(100).reshape(10,10).max())"
      ],
      "metadata": {
        "colab": {
          "base_uri": "https://localhost:8080/"
        },
        "id": "UT0zBu9TDHjx",
        "outputId": "1fbbe619-c7dd-4ccc-8cf4-4c3f01d19379"
      },
      "execution_count": null,
      "outputs": [
        {
          "output_type": "stream",
          "name": "stdout",
          "text": [
            "[[0.0963473  0.59161992 0.88234369 0.26171988 0.56873106 0.83433028\n",
            "  0.31990577 0.21556463 0.76788234 0.65846809]\n",
            " [0.20903463 0.44254932 0.53506919 0.79169372 0.21612318 0.63909078\n",
            "  0.97949018 0.60451637 0.56191111 0.26161112]\n",
            " [0.79457806 0.24236304 0.9313075  0.24567167 0.27134878 0.92027457\n",
            "  0.31353029 0.20007351 0.72893831 0.1875994 ]\n",
            " [0.14977007 0.52405098 0.50653646 0.19112591 0.19118804 0.30085401\n",
            "  0.91860204 0.30035404 0.37738503 0.08180155]\n",
            " [0.22118256 0.99166395 0.79076071 0.50089997 0.90823347 0.22331751\n",
            "  0.31876643 0.67042737 0.42153017 0.46074185]\n",
            " [0.44291683 0.11783868 0.01751238 0.18780441 0.61299383 0.00511637\n",
            "  0.95237358 0.85362321 0.20465567 0.18347993]\n",
            " [0.76165843 0.16909087 0.46753878 0.53320276 0.50177572 0.79948443\n",
            "  0.90389285 0.49721592 0.7607219  0.02127867]\n",
            " [0.77512833 0.83239365 0.48621423 0.13743977 0.1280101  0.22751579\n",
            "  0.84246982 0.17581073 0.08023384 0.14981294]\n",
            " [0.31934109 0.43853218 0.10963469 0.63212541 0.97798131 0.47420119\n",
            "  0.51954396 0.9793907  0.32222769 0.73863274]\n",
            " [0.80377789 0.52529625 0.52389478 0.98253468 0.43630413 0.22747447\n",
            "  0.56621454 0.58397629 0.65779188 0.9338215 ]]\n",
            "minimum value is:  0.00679027322588166\n",
            "maximum value is:  0.9764539632007333\n"
          ]
        }
      ]
    },
    {
      "cell_type": "markdown",
      "source": [
        "6.\tCreate a zero array of size 10 and replace 5th element with 1."
      ],
      "metadata": {
        "id": "rCLxJuAREJHz"
      }
    },
    {
      "cell_type": "code",
      "source": [
        "import numpy as np\n",
        "zero_array = np.zeros(10)\n",
        "zero_array[4] = 1\n",
        "print(zero_array)"
      ],
      "metadata": {
        "colab": {
          "base_uri": "https://localhost:8080/"
        },
        "id": "F7UerYhjELGg",
        "outputId": "9059d901-9585-445d-e585-56349bdbd89e"
      },
      "execution_count": null,
      "outputs": [
        {
          "output_type": "stream",
          "name": "stdout",
          "text": [
            "[0. 0. 0. 0. 1. 0. 0. 0. 0. 0.]\n"
          ]
        }
      ]
    },
    {
      "cell_type": "markdown",
      "source": [
        "7.\tReverse an array arr = [1,2,0,0,4,0]."
      ],
      "metadata": {
        "id": "zo0B1DO8FOel"
      }
    },
    {
      "cell_type": "code",
      "source": [
        "import numpy as np\n",
        "arr = np.array([1,2,0,0,4,0])\n",
        "print(np.flip(arr))"
      ],
      "metadata": {
        "colab": {
          "base_uri": "https://localhost:8080/"
        },
        "id": "7l0a-tlpFTTA",
        "outputId": "6ce0d33a-797b-4ead-9978-13c9fe6000a8"
      },
      "execution_count": null,
      "outputs": [
        {
          "output_type": "stream",
          "name": "stdout",
          "text": [
            "[0 4 0 0 2 1]\n"
          ]
        }
      ]
    },
    {
      "cell_type": "markdown",
      "source": [
        "8.\tCreate a 2d array with 1 on border and 0 inside."
      ],
      "metadata": {
        "id": "0d0J3HkoFvb6"
      }
    },
    {
      "cell_type": "code",
      "source": [
        "import numpy as np\n",
        "arr = np.ones((5,5))\n",
        "arr[1:-1,1:-1] = 0\n",
        "print(arr)"
      ],
      "metadata": {
        "colab": {
          "base_uri": "https://localhost:8080/"
        },
        "id": "6E2qSJ2NFwQ-",
        "outputId": "5a0b2eb6-e56d-4bab-9b3e-bd895bd3a26d"
      },
      "execution_count": null,
      "outputs": [
        {
          "output_type": "stream",
          "name": "stdout",
          "text": [
            "[[1. 1. 1. 1. 1.]\n",
            " [1. 0. 0. 0. 1.]\n",
            " [1. 0. 0. 0. 1.]\n",
            " [1. 0. 0. 0. 1.]\n",
            " [1. 1. 1. 1. 1.]]\n"
          ]
        }
      ]
    },
    {
      "cell_type": "markdown",
      "source": [
        "9.\tCreate a 8X8 matrix and fill it with a checkerboard pattern."
      ],
      "metadata": {
        "id": "pbtVbQdCGr7X"
      }
    },
    {
      "cell_type": "code",
      "source": [
        "import numpy as np\n",
        "arr = np.ones((8,8))\n",
        "arr[0::2,::2]=0\n",
        "arr[1::2,1::2]=0\n",
        "print(arr)\n"
      ],
      "metadata": {
        "colab": {
          "base_uri": "https://localhost:8080/"
        },
        "id": "fz4yJMBeGtAr",
        "outputId": "6ba79097-ecad-4d39-f297-d5b9d554a45a"
      },
      "execution_count": null,
      "outputs": [
        {
          "output_type": "stream",
          "name": "stdout",
          "text": [
            "[[0. 1. 0. 1. 0. 1. 0. 1.]\n",
            " [1. 0. 1. 0. 1. 0. 1. 0.]\n",
            " [0. 1. 0. 1. 0. 1. 0. 1.]\n",
            " [1. 0. 1. 0. 1. 0. 1. 0.]\n",
            " [0. 1. 0. 1. 0. 1. 0. 1.]\n",
            " [1. 0. 1. 0. 1. 0. 1. 0.]\n",
            " [0. 1. 0. 1. 0. 1. 0. 1.]\n",
            " [1. 0. 1. 0. 1. 0. 1. 0.]]\n"
          ]
        }
      ]
    },
    {
      "cell_type": "markdown",
      "source": [
        "Problem - 3: Array Operations:\n",
        "\n",
        "\n",
        "1.\tAdd the two array.\n"
      ],
      "metadata": {
        "id": "qD4ita9zLTnq"
      }
    },
    {
      "cell_type": "code",
      "source": [
        "import numpy as np\n",
        "x= np.array([[1,2],[3,5]])\n",
        "y = np.array([[5,6],[7,8]])\n",
        "v = np.array([9,10])\n",
        "w = np.array([11,12])\n",
        "print(\"addition of x and y array\\n\",x+y)\n",
        "print(\"addition of v and w array\",v+w)\n",
        "\n"
      ],
      "metadata": {
        "colab": {
          "base_uri": "https://localhost:8080/"
        },
        "id": "VX99EAl8Lkmk",
        "outputId": "efd82793-c96e-482e-c077-f6e6633b1052"
      },
      "execution_count": null,
      "outputs": [
        {
          "output_type": "stream",
          "name": "stdout",
          "text": [
            "addition of x and y array\n",
            " [[ 6  8]\n",
            " [10 13]]\n",
            "addition of v and w array [20 22]\n"
          ]
        }
      ]
    },
    {
      "cell_type": "markdown",
      "source": [
        "2.\tSubtract the two array"
      ],
      "metadata": {
        "id": "hI0r7ySQNN3B"
      }
    },
    {
      "cell_type": "code",
      "source": [
        "import numpy as np\n",
        "x= np.array([[1,2],[3,5]])\n",
        "y = np.array([[5,6],[7,8]])\n",
        "v = np.array([9,10])\n",
        "w = np.array([11,12])\n",
        "print(\"subtraction of x and y array:\\n \",x-y)\n",
        "print(\"subtraction of v and w array:\",v-w)"
      ],
      "metadata": {
        "colab": {
          "base_uri": "https://localhost:8080/"
        },
        "id": "xRzkHkBBMqwV",
        "outputId": "a1770845-de13-4c0b-8be1-f38d4d0c3f58"
      },
      "execution_count": null,
      "outputs": [
        {
          "output_type": "stream",
          "name": "stdout",
          "text": [
            "subtraction of x and y array:\n",
            "  [[-4 -4]\n",
            " [-4 -3]]\n",
            "subtraction of v and w array: [-2 -2]\n"
          ]
        }
      ]
    },
    {
      "cell_type": "markdown",
      "source": [
        "3.\tMultiply the array with any integers of your choice."
      ],
      "metadata": {
        "id": "b41QlblNNSwH"
      }
    },
    {
      "cell_type": "code",
      "source": [
        "import numpy as np\n",
        "x= np.array([[1,2],[3,5]])\n",
        "y = np.array([[5,6],[7,8]])\n",
        "v = np.array([9,10])\n",
        "w = np.array([11,12])\n",
        "print(\"multiplication of x by 2 array:\\n \",x*2)\n",
        "print(\"multiplication of y by 3 array:\\n \",y*3)\n",
        "print(\"multiplication of v by 4 array:\",v*4)\n",
        "print(\"multiplication of w by 5 array:\",w*5)"
      ],
      "metadata": {
        "colab": {
          "base_uri": "https://localhost:8080/"
        },
        "id": "kqXD_A3SNWTe",
        "outputId": "bb23cb22-ee3e-48a7-d7e8-f1d5b4d82b0e"
      },
      "execution_count": null,
      "outputs": [
        {
          "output_type": "stream",
          "name": "stdout",
          "text": [
            "multiplication of x by 2 array:\n",
            "  [[ 2  4]\n",
            " [ 6 10]]\n",
            "multiplication of y by 3 array:\n",
            "  [[15 18]\n",
            " [21 24]]\n",
            "multiplication of v by 4 array: [36 40]\n",
            "multiplication of w by 5 array: [55 60]\n"
          ]
        }
      ]
    },
    {
      "cell_type": "markdown",
      "source": [
        "4.\tFind the square of each element of the array."
      ],
      "metadata": {
        "id": "v_S7F2oMOkkC"
      }
    },
    {
      "cell_type": "code",
      "source": [
        "import numpy as np\n",
        "x= np.array([[1,2],[3,5]])\n",
        "y= np.array([[5,6],[7,8]])\n",
        "v= np.array([9,10])\n",
        "w= np.array([11,12])\n",
        "print(\"square of the array x is \\n \",x**2)\n",
        "print(\"square of the array y is\\n\",y**2)\n",
        "print(\"square of the array v is \",v**2)\n",
        "print(\"square of the array w is \",w**2)"
      ],
      "metadata": {
        "colab": {
          "base_uri": "https://localhost:8080/"
        },
        "id": "fwe6mMXVN_pK",
        "outputId": "1ccd136c-4830-4a53-bf73-9774ea008254"
      },
      "execution_count": null,
      "outputs": [
        {
          "output_type": "stream",
          "name": "stdout",
          "text": [
            "square of the array x is \n",
            "  [[ 1  4]\n",
            " [ 9 25]]\n",
            "square of the array y is\n",
            " [[25 36]\n",
            " [49 64]]\n",
            "square of the array v is  [ 81 100]\n",
            "square of the array w is  [121 144]\n"
          ]
        }
      ]
    },
    {
      "cell_type": "markdown",
      "source": [
        "5.\tFind the dot product between: v(and)w ; x(and)v ; x(and)y."
      ],
      "metadata": {
        "id": "OCNAfqWgOq0i"
      }
    },
    {
      "cell_type": "code",
      "source": [
        "import numpy as np\n",
        "x = np.array([[1,2],[3,5]])\n",
        "y = np.array([[5,6],[7,8]])\n",
        "v = np.array([9,10])\n",
        "w= np.array([11,12])\n",
        "print(\"dot product between: v(and)w \", np.dot(v,w))\n",
        "print(\"dot product between: x(and)v \", np.dot(x,v))\n",
        "print(\"dot product between: x(and)y \", np.dot(x,y))"
      ],
      "metadata": {
        "colab": {
          "base_uri": "https://localhost:8080/"
        },
        "id": "M7Fc-R1EOuag",
        "outputId": "9e65f034-6310-4719-c183-387efd1abdf8"
      },
      "execution_count": null,
      "outputs": [
        {
          "output_type": "stream",
          "name": "stdout",
          "text": [
            "dot product between: v(and)w  219\n",
            "dot product between: x(and)v  [29 77]\n",
            "dot product between: x(and)y  [[19 22]\n",
            " [50 58]]\n"
          ]
        }
      ]
    },
    {
      "cell_type": "markdown",
      "source": [
        "6.\tConcatenate x(and)y along row and Concatenate v(and)w along column. {Hint:try np.concatenate() or np.vstack() functions."
      ],
      "metadata": {
        "id": "xDkDjrPjPHCl"
      }
    },
    {
      "cell_type": "code",
      "source": [
        "import numpy as np\n",
        "x = np.array([[1,2],[3,5]])\n",
        "y = np.array([[5,6],[7,8]])\n",
        "v = np.array([9,10])\n",
        "w= np.array([11,12])\n",
        "print(\"Concatenate x(and)y along row:\\n \",np.concatenate((x,y),axis=1))\n",
        "print(\"Concatenate v(and)w along column: \",np.concatenate((v,w),axis=0))"
      ],
      "metadata": {
        "colab": {
          "base_uri": "https://localhost:8080/"
        },
        "id": "WnasAxq0PHbG",
        "outputId": "0498b2f0-2697-454a-bf46-b0133243de04"
      },
      "execution_count": null,
      "outputs": [
        {
          "output_type": "stream",
          "name": "stdout",
          "text": [
            "Concatenate x(and)y along row:\n",
            "  [[1 2 5 6]\n",
            " [3 5 7 8]]\n",
            "Concatenate v(and)w along column:  [ 9 10 11 12]\n"
          ]
        }
      ]
    },
    {
      "cell_type": "markdown",
      "source": [
        "7.\tConcatenate x(and)v; if you get an error, observe and explain why did you get the error?\n",
        "\n"
      ],
      "metadata": {
        "id": "PdNC4WOaRMpG"
      }
    },
    {
      "cell_type": "code",
      "source": [
        "import numpy as np\n",
        "x = np.array([[1,2],[3,5]])\n",
        "v = np.array([9,10])\n",
        "print(np.concatenate((x,v),axis=0))"
      ],
      "metadata": {
        "colab": {
          "base_uri": "https://localhost:8080/",
          "height": 176
        },
        "id": "Y3IZ4TjPROqh",
        "outputId": "6ba35ef2-9c1f-40d4-a813-79714fed5fa4"
      },
      "execution_count": null,
      "outputs": [
        {
          "output_type": "error",
          "ename": "ValueError",
          "evalue": "all the input arrays must have same number of dimensions, but the array at index 0 has 2 dimension(s) and the array at index 1 has 1 dimension(s)",
          "traceback": [
            "\u001b[0;31m---------------------------------------------------------------------------\u001b[0m",
            "\u001b[0;31mValueError\u001b[0m                                Traceback (most recent call last)",
            "\u001b[0;32m<ipython-input-93-282c299454b0>\u001b[0m in \u001b[0;36m<cell line: 4>\u001b[0;34m()\u001b[0m\n\u001b[1;32m      2\u001b[0m \u001b[0mx\u001b[0m \u001b[0;34m=\u001b[0m \u001b[0mnp\u001b[0m\u001b[0;34m.\u001b[0m\u001b[0marray\u001b[0m\u001b[0;34m(\u001b[0m\u001b[0;34m[\u001b[0m\u001b[0;34m[\u001b[0m\u001b[0;36m1\u001b[0m\u001b[0;34m,\u001b[0m\u001b[0;36m2\u001b[0m\u001b[0;34m]\u001b[0m\u001b[0;34m,\u001b[0m\u001b[0;34m[\u001b[0m\u001b[0;36m3\u001b[0m\u001b[0;34m,\u001b[0m\u001b[0;36m5\u001b[0m\u001b[0;34m]\u001b[0m\u001b[0;34m]\u001b[0m\u001b[0;34m)\u001b[0m\u001b[0;34m\u001b[0m\u001b[0;34m\u001b[0m\u001b[0m\n\u001b[1;32m      3\u001b[0m \u001b[0mv\u001b[0m \u001b[0;34m=\u001b[0m \u001b[0mnp\u001b[0m\u001b[0;34m.\u001b[0m\u001b[0marray\u001b[0m\u001b[0;34m(\u001b[0m\u001b[0;34m[\u001b[0m\u001b[0;36m9\u001b[0m\u001b[0;34m,\u001b[0m\u001b[0;36m10\u001b[0m\u001b[0;34m]\u001b[0m\u001b[0;34m)\u001b[0m\u001b[0;34m\u001b[0m\u001b[0;34m\u001b[0m\u001b[0m\n\u001b[0;32m----> 4\u001b[0;31m \u001b[0mprint\u001b[0m\u001b[0;34m(\u001b[0m\u001b[0mnp\u001b[0m\u001b[0;34m.\u001b[0m\u001b[0mconcatenate\u001b[0m\u001b[0;34m(\u001b[0m\u001b[0;34m(\u001b[0m\u001b[0mx\u001b[0m\u001b[0;34m,\u001b[0m\u001b[0mv\u001b[0m\u001b[0;34m)\u001b[0m\u001b[0;34m,\u001b[0m\u001b[0maxis\u001b[0m\u001b[0;34m=\u001b[0m\u001b[0;36m0\u001b[0m\u001b[0;34m)\u001b[0m\u001b[0;34m)\u001b[0m\u001b[0;34m\u001b[0m\u001b[0;34m\u001b[0m\u001b[0m\n\u001b[0m",
            "\u001b[0;31mValueError\u001b[0m: all the input arrays must have same number of dimensions, but the array at index 0 has 2 dimension(s) and the array at index 1 has 1 dimension(s)"
          ]
        }
      ]
    },
    {
      "cell_type": "markdown",
      "source": [
        "  ==>  To concatenate the two array it should be in same dimentional array. And 1D array will only concatenate with verticallt i.e axis = 0"
      ],
      "metadata": {
        "id": "nasDBNKwRr3A"
      }
    },
    {
      "cell_type": "markdown",
      "source": [
        "\n",
        "Problem - 4: Matrix Operations:\n",
        "\n",
        "• For the following arrays:\n",
        "\n",
        "A = np.array([[3,4],[7,8]]) and B = np.array([[5,3],[2,1]]); Prove following with Numpy:\n",
        "\n",
        "\n",
        "1.\tProve A.A−1 = I.\n"
      ],
      "metadata": {
        "id": "11MZBG50SJ8W"
      }
    },
    {
      "cell_type": "code",
      "source": [
        "import numpy as np\n",
        "A = np.array([[3,4],[7,8]])\n",
        "print(np.linalg.inv(A))\n",
        "print(\"Prove of A.A−1 = I \\n\",np.dot(A,np.linalg.inv(A)))"
      ],
      "metadata": {
        "colab": {
          "base_uri": "https://localhost:8080/"
        },
        "id": "ZPByVBuaUT_j",
        "outputId": "32d02c1a-9d11-4a57-a45a-c7dcc12a2f47"
      },
      "execution_count": null,
      "outputs": [
        {
          "output_type": "stream",
          "name": "stdout",
          "text": [
            "[[-2.    1.  ]\n",
            " [ 1.75 -0.75]]\n",
            "Prove of A.A−1 = I \n",
            " [[1.00000000e+00 0.00000000e+00]\n",
            " [1.77635684e-15 1.00000000e+00]]\n"
          ]
        }
      ]
    },
    {
      "cell_type": "markdown",
      "source": [
        "2.\tProve AB ̸= BA.\n"
      ],
      "metadata": {
        "id": "tAX7-9XaV395"
      }
    },
    {
      "cell_type": "code",
      "source": [
        "import numpy as np\n",
        "A = np.array([[3,4],[7,8]])\n",
        "B = np.array([[5,3],[2,1]])\n",
        "AB = np.dot(A,B)\n",
        "BA = np.dot(B,A)\n",
        "print(\"value of AB is=\\n \",AB ,\"\\nvalue of BA is =\\n \",BA)\n",
        "if (AB==BA).all():\n",
        "  print(\"AB = BA\")\n",
        "else:\n",
        "    print(\"\\nAB != BA\")"
      ],
      "metadata": {
        "colab": {
          "base_uri": "https://localhost:8080/"
        },
        "id": "2VTinrTtV8KO",
        "outputId": "2616bc93-459d-46a8-8636-16ebd9c0f9bc"
      },
      "execution_count": null,
      "outputs": [
        {
          "output_type": "stream",
          "name": "stdout",
          "text": [
            "value of AB is=\n",
            "  [[23 13]\n",
            " [51 29]] \n",
            "value of BA is =\n",
            "  [[36 44]\n",
            " [13 16]]\n",
            "\n",
            "AB != BA\n"
          ]
        }
      ]
    },
    {
      "cell_type": "markdown",
      "source": [
        "3.\tProve (AB)T = BTAT."
      ],
      "metadata": {
        "id": "2jhcuEQ3XVz3"
      }
    },
    {
      "cell_type": "code",
      "source": [
        "import numpy as np\n",
        "A = np.array([[3,4],[7,8]])\n",
        "B = np.array([[5,3],[2,1]])\n",
        "AB = np.dot(A,B)\n",
        "BT = np.transpose(B)\n",
        "AT = np.transpose(A)\n",
        "ABT = np.transpose(AB)\n",
        "BTAT = np.dot(BT,AT)\n",
        "print(\"value of transpose AB is=\\n \",ABT ,\"\\nvalue of transpose B dot transpose A is =\\n \",BTAT)\n",
        "if (ABT==BTAT).all():\n",
        "  print(\"ABT = BTAT\")\n",
        "else:\n",
        "    print(\"\\nABT != BTAT\")\n",
        "\n"
      ],
      "metadata": {
        "colab": {
          "base_uri": "https://localhost:8080/"
        },
        "id": "1ZoBPP45XbZX",
        "outputId": "5e486ebf-d284-4976-edac-489e584d98be"
      },
      "execution_count": null,
      "outputs": [
        {
          "output_type": "stream",
          "name": "stdout",
          "text": [
            "value of transpose AB is=\n",
            "  [[23 51]\n",
            " [13 29]] \n",
            "value of transpose B dot transpose A is =\n",
            "  [[23 51]\n",
            " [13 29]]\n",
            "ABT = BTAT\n"
          ]
        }
      ]
    },
    {
      "cell_type": "markdown",
      "source": [
        "•\tSolve the following system of Linear equation using Inverse Methods.\n",
        "\n",
        "2x − 3y + z = −1\n",
        "\n",
        " x − y + 2z = −3\n",
        "\n",
        " 3x + y − z = 9\n",
        "\n",
        " {Hint: First use Numpy array to represent the equation in Matrix form. Then Solve for: AX = B}\n",
        "\n",
        "\n"
      ],
      "metadata": {
        "id": "RoVGUAEEYT5N"
      }
    },
    {
      "cell_type": "code",
      "source": [
        "import numpy as np\n",
        "A = np.array([[2,-3,1],[1,-1,2],[3,1,-1]])\n",
        "B = np.array([-1,-3,9])\n",
        "# now taking inverse of A\n",
        "A_inverse = np.linalg.inv(A)\n",
        "print(\"inverse of A = \",A_inverse)\n",
        "# now solving for X\n",
        "x = np.dot(A_inverse,B)\n",
        "print(x)\n",
        "print(f\"Solution: x = {x[0]} y = {x[1]} z = {x[2]}\")"
      ],
      "metadata": {
        "colab": {
          "base_uri": "https://localhost:8080/"
        },
        "id": "lTkvH8BLZQZC",
        "outputId": "268b26bc-519a-45db-c456-d2d6492e0d40"
      },
      "execution_count": null,
      "outputs": [
        {
          "output_type": "stream",
          "name": "stdout",
          "text": [
            "inverse of A =  [[ 0.05263158  0.10526316  0.26315789]\n",
            " [-0.36842105  0.26315789  0.15789474]\n",
            " [-0.21052632  0.57894737 -0.05263158]]\n",
            "[ 2.  1. -2.]\n",
            "Solution: x = 2.0 y = 1.0 z = -2.0\n"
          ]
        }
      ]
    },
    {
      "cell_type": "markdown",
      "source": [
        "**4.2\tExperiment: How Fast is Numpy?**\n",
        "\n",
        "\n",
        "In this exercise, you will compare the performance and implementation of operations using plain Python lists (arrays) and NumPy arrays. Follow the instructions:\n",
        "\n",
        "1. Element-wise Addition:\n",
        "\n",
        "**.** Using Python Lists, perform element-wise addition of two lists of size 1,000,000. Measure and Print the time taken for this operation.\n"
      ],
      "metadata": {
        "id": "mfDkGDqxbL0V"
      }
    },
    {
      "cell_type": "code",
      "source": [
        "import numpy as np\n",
        "import random\n",
        "from timeit import timeit\n",
        "z1_list = random.sample(range(10000000+1),1000000)\n",
        "z2_list = random.sample(range(10000000+1),1000000)\n",
        "def add(z1,z2):\n",
        "  return [z1+z2 for z1,z2 in zip(z1,z2)]\n",
        "time = timeit(\"add(z1_list,z2_list)\",globals=globals(),number = 1000)\n",
        "print(time)\n"
      ],
      "metadata": {
        "colab": {
          "base_uri": "https://localhost:8080/"
        },
        "id": "3mToEp0lbo2K",
        "outputId": "850ae44d-47c8-4fbc-d68e-36cdca528b38"
      },
      "execution_count": null,
      "outputs": [
        {
          "output_type": "stream",
          "name": "stdout",
          "text": [
            "172.97663174099944\n"
          ]
        }
      ]
    },
    {
      "cell_type": "markdown",
      "source": [
        "•\tUsing Numpy Arrays, Repeat the calculation and measure and print the time taken for this operation."
      ],
      "metadata": {
        "id": "shW83avPfge4"
      }
    },
    {
      "cell_type": "code",
      "source": [
        "import numpy as np\n",
        "import random\n",
        "from timeit import timeit\n",
        "z1 = np.array(random.sample(range(10000000+1),1000000))\n",
        "z2 = np.array(random.sample(range(10000000+1),1000000))\n",
        "def add(z1,z2):\n",
        "  return np.add(z1,z2)\n",
        "time = timeit(\"add(z1,z2)\",globals=globals(),number = 1000)\n",
        "print(time)"
      ],
      "metadata": {
        "colab": {
          "base_uri": "https://localhost:8080/"
        },
        "id": "MjCNLUsufltu",
        "outputId": "4576b2d2-7401-4296-fae9-ab1ca09e777e"
      },
      "execution_count": null,
      "outputs": [
        {
          "output_type": "stream",
          "name": "stdout",
          "text": [
            "1.2814406929992401\n"
          ]
        }
      ]
    },
    {
      "cell_type": "markdown",
      "source": [
        "2. Element-wise Multiplication\n",
        "\n",
        "\n",
        "•\tUsing Python Lists, perform element-wise\n",
        " multiplication of two lists of size 1,000,000. Measure and Print the time taken for this operation.\n"
      ],
      "metadata": {
        "id": "0Jsv-boPgVhT"
      }
    },
    {
      "cell_type": "code",
      "source": [
        "import numpy as np\n",
        "import random\n",
        "from timeit import timeit\n",
        "z1_list = random.sample(range(10000000+1),1000000)\n",
        "z2_list = random.sample(range(10000000+1),1000000)\n",
        "def mul(z1,z2):\n",
        "  return [z1*z2 for z1,z2 in zip(z1,z2)]\n",
        "\n",
        "time = timeit(\"mul(z1_list,z2_list)\",globals=globals(),number = 1000)\n",
        "print(time)"
      ],
      "metadata": {
        "colab": {
          "base_uri": "https://localhost:8080/"
        },
        "id": "P9HYcVrvggtP",
        "outputId": "7930313e-70aa-441b-df09-86a0c450d459"
      },
      "execution_count": null,
      "outputs": [
        {
          "output_type": "stream",
          "name": "stdout",
          "text": [
            "214.75644005100003\n"
          ]
        }
      ]
    },
    {
      "cell_type": "markdown",
      "source": [
        "•\tUsing Numpy Arrays, Repeat the calculation and measure and print the time taken for this operation."
      ],
      "metadata": {
        "id": "Zd-tLMhWhB2e"
      }
    },
    {
      "cell_type": "code",
      "source": [
        "import numpy as np\n",
        "import random\n",
        "from timeit import timeit\n",
        "z1 = np.array(random.sample(range(10000000+1),1000000))\n",
        "z2 = np.array(random.sample(range(10000000+1),1000000))\n",
        "def mul(z1,z2):\n",
        "  return np.multiply(z1,z2)\n",
        "time = timeit(\"mul(z1,z2)\",globals=globals(),number = 1000)\n",
        "print(time)"
      ],
      "metadata": {
        "colab": {
          "base_uri": "https://localhost:8080/"
        },
        "id": "oioYnY1RhFU0",
        "outputId": "c0e034b2-0367-41af-a381-452ffef41627"
      },
      "execution_count": null,
      "outputs": [
        {
          "output_type": "stream",
          "name": "stdout",
          "text": [
            "1.478543578999961\n"
          ]
        }
      ]
    },
    {
      "cell_type": "markdown",
      "source": [
        "3. Dot Product\n",
        "\n",
        "\n",
        "•\tUsing Python Lists, compute the dot product of two lists of size 1,000,000. Measure and Print the time taken for this operation.\n"
      ],
      "metadata": {
        "id": "wOvYnOdShbD9"
      }
    },
    {
      "cell_type": "code",
      "source": [
        "import numpy as np\n",
        "import random\n",
        "from timeit import timeit\n",
        "z1_list = random.sample(range(10000000+1),1000000)\n",
        "z2_list = random.sample(range(10000000+1),1000000)\n",
        "def dot(z1,z2):\n",
        "  return sum([z1*z2 for z1,z2 in zip(z1,z2)])\n",
        "time = timeit(\"dot(z1_list,z2_list)\",globals=globals(),number = 1000)\n",
        "print(time)"
      ],
      "metadata": {
        "colab": {
          "base_uri": "https://localhost:8080/"
        },
        "id": "1vbbJOgYhgRY",
        "outputId": "b492058b-acd7-49bf-9edd-9855a4f4a422"
      },
      "execution_count": null,
      "outputs": [
        {
          "output_type": "stream",
          "name": "stdout",
          "text": [
            "295.8430008739997\n"
          ]
        }
      ]
    },
    {
      "cell_type": "markdown",
      "source": [
        "•\tUsing Numpy Arrays, Repeat the calculation and measure and print the time taken for this operation."
      ],
      "metadata": {
        "id": "3e46JoWYiNL5"
      }
    },
    {
      "cell_type": "code",
      "source": [
        "import numpy as np\n",
        "import random\n",
        "from timeit import timeit\n",
        "z1 = np.array(random.sample(range(10000000+1),1000000))\n",
        "z2 = np.array(random.sample(range(10000000+1),1000000))\n",
        "def dot(z1,z2):\n",
        "  return np.dot(z1,z2)\n",
        "\n",
        "time = timeit(\"dot(z1,z2)\",globals=globals(),number = 1000)\n",
        "print(time)"
      ],
      "metadata": {
        "colab": {
          "base_uri": "https://localhost:8080/"
        },
        "id": "DFlud2meioda",
        "outputId": "2bf08714-bb46-466b-eefe-174bdfd337e8"
      },
      "execution_count": null,
      "outputs": [
        {
          "output_type": "stream",
          "name": "stdout",
          "text": [
            "1.0460358190011902\n"
          ]
        }
      ]
    },
    {
      "cell_type": "markdown",
      "source": [
        "4. Matrix Multiplication\n",
        "•\tUsing Python lists, perform matrix multiplication of two matrices of size 1000x1000. Measure and print the time taken for this operation.\n"
      ],
      "metadata": {
        "id": "2DKYJ1Mkjo1e"
      }
    },
    {
      "source": [
        "import random\n",
        "from timeit import timeit\n",
        "\n",
        "z1_list = [[random.randint(0, 1000000) for _ in range(1000)] for _ in range(1000)]\n",
        "z2_list = [[random.randint(0, 1000000) for _ in range(1000)] for _ in range(1000)]\n",
        "\n",
        "def mul(z1, z2):\n",
        "  # Corrected the ranges to match the matrix dimensions (1000x1000)\n",
        "  return [[sum(z1[i][k] * z2[k][j] for k in range(1000))\n",
        "           for j in range(1000)]\n",
        "           for i in range(1000)]\n",
        "\n",
        "time = timeit(\"mul(z1_list, z2_list)\", globals=globals(), number=1000)\n",
        "print(time)"
      ],
      "cell_type": "code",
      "metadata": {
        "id": "jfAQJQyXir4D"
      },
      "execution_count": null,
      "outputs": []
    },
    {
      "cell_type": "markdown",
      "source": [
        "•\tUsing NumPy arrays, perform matrix multiplication of two matrices of size 1000x1000. Measure and print the time taken for this operation.\n"
      ],
      "metadata": {
        "id": "ByA225dqmrHQ"
      }
    },
    {
      "cell_type": "code",
      "source": [
        "import numpy as np\n",
        "import random\n",
        "from timeit import timeit\n",
        "z1 = np.random.random(1000000).reshape(1000*1000)\n",
        "z2 = np.random.random(1000000).reshape(1000*1000)\n",
        "print(z1.shape)\n",
        "print(z1)\n",
        "print(z2.shape)\n",
        "print(z2)\n",
        "def matrixMultiplication(z1,z2):\n",
        "  return np.multiply(z1,z2)\n",
        "time = timeit(\"matrixMultiplication(z1,z2)\",globals=globals(),number = 1000)\n",
        "print(time)\n",
        "print(matrixMultiplication(z1,z2))\n"
      ],
      "metadata": {
        "colab": {
          "base_uri": "https://localhost:8080/"
        },
        "id": "XI8aT5oymuU4",
        "outputId": "43c4afa2-5507-4a5d-f143-8e6df56647dc"
      },
      "execution_count": null,
      "outputs": [
        {
          "output_type": "stream",
          "name": "stdout",
          "text": [
            "(1000000,)\n",
            "[0.6470263  0.15696194 0.27523208 ... 0.09294907 0.95794465 0.86900622]\n",
            "(1000000,)\n",
            "[0.54388692 0.79967276 0.30438251 ... 0.72676093 0.51829241 0.28487458]\n",
            "1.7022024859998055\n",
            "[0.35190914 0.12551818 0.08377583 ... 0.06755175 0.49649544 0.24755778]\n"
          ]
        }
      ]
    }
  ]
}